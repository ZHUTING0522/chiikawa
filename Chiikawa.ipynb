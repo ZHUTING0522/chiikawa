{
  "nbformat": 4,
  "nbformat_minor": 0,
  "metadata": {
    "colab": {
      "provenance": [],
      "authorship_tag": "ABX9TyMJQpwBHQRSQ/91SXdT3Zk0",
      "include_colab_link": true
    },
    "kernelspec": {
      "name": "python3",
      "display_name": "Python 3"
    },
    "language_info": {
      "name": "python"
    }
  },
  "cells": [
    {
      "cell_type": "markdown",
      "metadata": {
        "id": "view-in-github",
        "colab_type": "text"
      },
      "source": [
        "<a href=\"https://colab.research.google.com/github/ZHUTING0522/chiikawa/blob/main/Chiikawa.ipynb\" target=\"_parent\"><img src=\"https://colab.research.google.com/assets/colab-badge.svg\" alt=\"Open In Colab\"/></a>"
      ]
    },
    {
      "cell_type": "code",
      "execution_count": null,
      "metadata": {
        "collapsed": true,
        "id": "lRagi3MmEGil"
      },
      "outputs": [],
      "source": [
        "!pip install scikit-learn matplotlib mecab-python3"
      ]
    },
    {
      "cell_type": "code",
      "source": [
        "!apt-get install -y mecab libmecab-dev mecab-ipadic-utf8"
      ],
      "metadata": {
        "collapsed": true,
        "id": "UcV2fk7MQTTf"
      },
      "execution_count": null,
      "outputs": []
    },
    {
      "cell_type": "code",
      "source": [
        "import pandas as pd\n",
        "import re\n",
        "import MeCab\n",
        "from sklearn.feature_extraction.text import TfidfVectorizer\n",
        "from sklearn.model_selection import train_test_split\n",
        "from sklearn.linear_model import LogisticRegression\n",
        "from sklearn.metrics import classification_report\n",
        "import matplotlib.pyplot as plt"
      ],
      "metadata": {
        "id": "hUDgO9eQQZdQ"
      },
      "execution_count": 34,
      "outputs": []
    },
    {
      "cell_type": "code",
      "source": [
        "import pandas as pd\n",
        "df = pd.read_csv('/content/chiikawa_posts.csv')\n",
        "print(df.head())"
      ],
      "metadata": {
        "id": "SC2BUX5JRQ5X"
      },
      "execution_count": null,
      "outputs": []
    },
    {
      "cell_type": "code",
      "source": [
        "# Preprocessing function\n",
        "def preprocess_text(text):\n",
        "    mecab = MeCab.Tagger(\"-Owakati\")\n",
        "    text = re.sub(r'http\\S+|www\\S+', '', text)  # Remove URLs\n",
        "    text = re.sub(r'[\\d\\W]+', ' ', text)  # Remove non-alphanumeric characters\n",
        "    return mecab.parse(text).strip()"
      ],
      "metadata": {
        "id": "L3tsLGtvQfVm"
      },
      "execution_count": 43,
      "outputs": []
    },
    {
      "cell_type": "code",
      "source": [
        "# Visualization function\n",
        "def visualize_sentiment_distribution(data):\n",
        "    sentiment_counts = data['sentiment'].value_counts()\n",
        "    plt.figure(figsize=(8, 6))\n",
        "    sentiment_counts.plot.pie(autopct='%1.1f%%', startangle=140, colors=['#66c2a5', '#fc8d62', '#8da0cb'])\n",
        "    plt.title('Sentiment Distribution')\n",
        "    plt.ylabel('')\n",
        "    plt.show()"
      ],
      "metadata": {
        "id": "PxNlQHYFQiEh"
      },
      "execution_count": 44,
      "outputs": []
    },
    {
      "cell_type": "code",
      "source": [
        "# Main function\n",
        "def main():\n",
        "    # Load data\n",
        "    df = pd.read_csv('chiikawa_posts.csv')\n",
        "    df['cleaned_content'] = df['content'].apply(preprocess_text)\n",
        "\n",
        "    # Feature extraction\n",
        "    vectorizer = TfidfVectorizer(max_features=5000)\n",
        "    X = vectorizer.fit_transform(df['cleaned_content'])\n",
        "    y = df['sentiment']\n",
        "\n",
        "    # Train/test split and model training\n",
        "    X_train, X_test, y_train, y_test = train_test_split(X, y, test_size=0.2, random_state=42)\n",
        "    model = LogisticRegression(max_iter=1000, random_state=42)\n",
        "    model.fit(X_train, y_train)\n",
        "\n",
        "    # Evaluation\n",
        "    y_pred = model.predict(X_test)\n",
        "    print(\"Classification Report:\\n\", classification_report(y_test, y_pred))\n",
        "\n",
        "    # Visualization\n",
        "    visualize_sentiment_distribution(df)\n",
        "\n",
        "    # Example prediction\n",
        "    new_post = \"ちいかわの新しいグッズは素敵すぎる！\"\n",
        "    cleaned_post = preprocess_text(new_post)\n",
        "    vectorized_post = vectorizer.transform([cleaned_post])\n",
        "    sentiment = model.predict(vectorized_post)[0]\n",
        "    print(f\"Predicted sentiment for the post: {sentiment}\")\n",
        "\n",
        "if __name__ == \"__main__\":\n",
        "    main()\n"
      ],
      "metadata": {
        "id": "Ucc3cIMf6LtX"
      },
      "execution_count": null,
      "outputs": []
    }
  ]
}